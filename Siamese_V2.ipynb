{
 "cells": [
  {
   "cell_type": "code",
   "execution_count": 1,
   "metadata": {},
   "outputs": [
    {
     "name": "stderr",
     "output_type": "stream",
     "text": [
      "C:\\Anaconda3\\lib\\site-packages\\h5py\\__init__.py:34: FutureWarning: Conversion of the second argument of issubdtype from `float` to `np.floating` is deprecated. In future, it will be treated as `np.float64 == np.dtype(float).type`.\n",
      "  from ._conv import register_converters as _register_converters\n",
      "Using TensorFlow backend.\n"
     ]
    }
   ],
   "source": [
    "import numpy as np \n",
    "import pandas as pd \n",
    "import os\n",
    "import matplotlib.pyplot as plt\n",
    "import matplotlib.image as mplimg\n",
    "from matplotlib.pyplot import imshow\n",
    "import time\n",
    "\n",
    "\n",
    "from sklearn.preprocessing import LabelEncoder\n",
    "from sklearn.preprocessing import OneHotEncoder\n",
    "from sklearn.metrics import accuracy_score, recall_score\n",
    "\n",
    "\n",
    "import random\n",
    "\n",
    "from keras.preprocessing import image\n",
    "from keras.datasets import mnist\n",
    "from keras.models import Sequential, Model\n",
    "from keras.layers import Dense, Dropout, Input, Lambda\n",
    "from keras.optimizers import SGD, RMSprop\n",
    "from keras import backend as K\n",
    "import pandas as pd\n",
    "\n",
    "from keras.layers import Input, Conv2D, Lambda, merge, Dense, Flatten,MaxPooling2D\n",
    "from keras.models import Model, Sequential\n",
    "from keras.regularizers import l2\n",
    "from keras import backend as K\n",
    "from keras.optimizers import SGD,Adam\n",
    "from keras.losses import binary_crossentropy\n",
    "from keras import metrics\n",
    "import keras_metrics\n",
    "\n",
    "import numpy.random as rng\n",
    "import numpy as np\n",
    "import os\n",
    "import pickle\n",
    "import matplotlib.pyplot as plt\n",
    "import seaborn as sns\n",
    "from sklearn.utils import shuffle\n",
    "%matplotlib inline"
   ]
  },
  {
   "cell_type": "markdown",
   "metadata": {},
   "source": [
    "## Décision sur le test set\n",
    "\n",
    "Il y a 5005 classes différentes d'images parmi les 25 361 proposées, il y a 1647 classes avec plus ou moins que 3 images, 2932 avec plus que 2 images et 806 avec plus que 5. Nous allons donc sélectionner pour le test set une proportion de catégories venant de cette catégorie des images à plus de 3 images, pour pouvoir faire une comparaison aux dites classes (rapide réapprentissage sur les classes en question avec 2images et des exemples puis test pour savoir à laquelle des classes appartiennent les exemples.)"
   ]
  },
  {
   "cell_type": "code",
   "execution_count": 3,
   "metadata": {},
   "outputs": [
    {
     "name": "stdout",
     "output_type": "stream",
     "text": [
      "1079\n",
      "0.1250813325246175\n"
     ]
    }
   ],
   "source": [
    "import time\n",
    "\n",
    "train_data = pd.read_csv(\"dataset/train.csv\")\n",
    "time1 = time.time()\n",
    "train_data.set_index('Id', inplace=True)\n",
    "train_data.sort_index(inplace=True)\n",
    "\n",
    "k=0\n",
    "for sub_index in set(train_data.index):\n",
    "    if len(set(train_data.loc[train_data.index==sub_index].Image))>=4:\n",
    "         k+=1\n",
    "print(k)\n",
    "\n",
    "print((time.time()-time1)/60)"
   ]
  },
  {
   "cell_type": "markdown",
   "metadata": {},
   "source": [
    "# Siamese Model"
   ]
  },
  {
   "cell_type": "code",
   "execution_count": 2,
   "metadata": {},
   "outputs": [
    {
     "name": "stdout",
     "output_type": "stream",
     "text": [
      "WARNING:tensorflow:From C:\\Anaconda3\\lib\\site-packages\\tensorflow\\python\\framework\\op_def_library.py:263: colocate_with (from tensorflow.python.framework.ops) is deprecated and will be removed in a future version.\n",
      "Instructions for updating:\n",
      "Colocations handled automatically by placer.\n"
     ]
    },
    {
     "data": {
      "text/plain": [
       "90344769"
      ]
     },
     "execution_count": 2,
     "metadata": {},
     "output_type": "execute_result"
    }
   ],
   "source": [
    "def W_init(shape,name=None):\n",
    "    \"\"\"Initialize weights as in paper\"\"\"\n",
    "    values = rng.normal(loc=0,scale=1e-2,size=shape)\n",
    "    return K.variable(values,name=name)\n",
    "#//TODO: figure out how to initialize layer biases in keras.\n",
    "def b_init(shape,name=None):\n",
    "    \"\"\"Initialize bias as in paper\"\"\"\n",
    "    values=rng.normal(loc=0.5,scale=1e-2,size=shape)\n",
    "    return K.variable(values,name=name)\n",
    "\n",
    "input_shape = (100, 200, 3)\n",
    "left_input = Input(input_shape)\n",
    "right_input = Input(input_shape)\n",
    "#build convnet to use in each siamese 'leg'\n",
    "convnet = Sequential()\n",
    "convnet.add(Conv2D(64,(10,10),activation='relu',input_shape=input_shape,\n",
    "                   kernel_initializer=W_init,kernel_regularizer=l2(2e-4)))\n",
    "convnet.add(MaxPooling2D())\n",
    "convnet.add(Conv2D(128,(7,7),activation='relu',\n",
    "                   kernel_regularizer=l2(2e-4),kernel_initializer=W_init,bias_initializer=b_init))\n",
    "convnet.add(MaxPooling2D())\n",
    "convnet.add(Conv2D(128,(4,4),activation='relu',kernel_initializer=W_init,kernel_regularizer=l2(2e-4),bias_initializer=b_init))\n",
    "convnet.add(MaxPooling2D())\n",
    "convnet.add(Conv2D(256,(4,4),activation='relu',kernel_initializer=W_init,kernel_regularizer=l2(2e-4),bias_initializer=b_init))\n",
    "convnet.add(Flatten())\n",
    "convnet.add(Dense(4096,activation=\"sigmoid\",kernel_regularizer=l2(1e-3),kernel_initializer=W_init,bias_initializer=b_init))\n",
    "\n",
    "#call the convnet Sequential model on each of the input tensors so params will be shared\n",
    "encoded_l = convnet(left_input)\n",
    "encoded_r = convnet(right_input)\n",
    "\n",
    "#layer to merge two encoded inputs with the l1 distance between them\n",
    "L1_layer = Lambda(lambda tensors:K.abs(tensors[0] - tensors[1]))\n",
    "\n",
    "#call this layer on list of two input tensors.\n",
    "L1_distance = L1_layer([encoded_l, encoded_r])\n",
    "prediction = Dense(1,activation='sigmoid',bias_initializer=b_init)(L1_distance)\n",
    "siamese_net = Model(inputs=[left_input,right_input],outputs=prediction)\n",
    "\n",
    "optimizer = Adam(0.001)#Adam(0.001)#Adam(0.00006)\n",
    "#//TODO: get layerwise learning rates and momentum annealing scheme described in paperworking\n",
    "siamese_net.compile(loss=\"binary_crossentropy\",optimizer=optimizer)\n",
    "\n",
    "siamese_net.count_params()"
   ]
  },
  {
   "cell_type": "markdown",
   "metadata": {},
   "source": [
    "# Data Generator for Siamese Network"
   ]
  },
  {
   "cell_type": "code",
   "execution_count": null,
   "metadata": {},
   "outputs": [
    {
     "name": "stdout",
     "output_type": "stream",
     "text": [
      "Loading...\n"
     ]
    }
   ],
   "source": [
    "class Siamese_Loader:\n",
    "    \"\"\"For loading batches and testing tasks to a siamese net\"\"\"\n",
    "    def __init__(self, path=\"./dataset/train.csv\", data_subsets = [\"fake\", \"real\"]):\n",
    "        self.data = {}\n",
    "        #self.categories = {}\n",
    "        self.info = {}\n",
    "        \n",
    "        data_train = pd.read_csv(path)\n",
    "        self.dict_images = {}\n",
    "        \n",
    "        (real_data_train, fake_data_train), (real_data_test, fake_data_test),total_data_train, total_data_test = self.load_fake_real_data(data_train, test_percentage = 0.2)\n",
    "        (real_data_train, fake_data_train) = (0,0)\n",
    "        (real_data_test, fake_data_test) = (0,0)\n",
    "        self.data['train']=total_data_train\n",
    "        self.data['dev']=total_data_test\n",
    "        self.data['real_train'] = real_data_train\n",
    "        self.data['fake_train'] = fake_data_train\n",
    "        self.data['real_test'] = real_data_test\n",
    "        self.data['fake_test'] = fake_data_test\n",
    "        \n",
    "        # Training logs\n",
    "        self.les_accuracy = []\n",
    "        self.les_recall = []\n",
    "        self.les_loss = []\n",
    "        self.number_iteration = {}\n",
    "#         self.dict_targets={}\n",
    "#         self.dict_pairs={}\n",
    "        #Initiate iterator for batch purpose\n",
    "        self.iterator_batch = 0\n",
    "        \n",
    "                \n",
    "    def load_fake_real_data(self, train_data, test_percentage=0.2):\n",
    "        print(\"Loading...\")\n",
    "        train_data.set_index('Id', inplace=True)\n",
    "        train_data.sort_index(inplace=True)\n",
    "        fake_data_train = []\n",
    "        real_data_train = []\n",
    "        fake_data_test = []\n",
    "        real_data_test = []\n",
    "        #k=0\n",
    "        s = 'train'\n",
    "        for sub_index in set(train_data.index):\n",
    "            if sub_index!=\"new_whale\":\n",
    "                #print(k)\n",
    "                #print(sub_index)\n",
    "                #k+=1\n",
    "                images_same_class = list(set(train_data.loc[train_data.index==sub_index].Image))\n",
    "                images_different_class = list(set(train_data.loc[train_data.index!=sub_index].Image))\n",
    "                \n",
    "                if (len(images_same_class) >= 2)and(len(images_same_class)<4) : #Condition for train\n",
    "                    for i in range(len(images_same_class)):\n",
    "                        self.dict_images[images_same_class[i]]=np.array([image.img_to_array(image.load_img(\"./dataset/\"+s+\"/\"+images_same_class[i], target_size=(100, 200, 3)))])\n",
    "                        for j in range(len(images_same_class)):\n",
    "                            if i!=j :\n",
    "                                real_data_train.append(np.array([images_same_class[i], images_same_class[j],1]))\n",
    "                                random_image = np.random.randint(len(images_different_class))\n",
    "                                self.dict_images[images_different_class[random_image]] = np.array([image.img_to_array(image.load_img(\"./dataset/\"+s+\"/\"+images_different_class[random_image], target_size=(100, 200, 3)))])\n",
    "                                fake_data_train.append(np.array([images_same_class[i], images_different_class[random_image],0]))\n",
    "                            \n",
    "                elif (len(images_same_class) >= 4) : #some_classes will be selected for testing\n",
    "                   \n",
    "                    for i in range(len(images_same_class)-2):\n",
    "                        self.dict_images[images_same_class[i]]=np.array([image.img_to_array(image.load_img(\"./dataset/\"+s+\"/\"+images_same_class[i], target_size=(100, 200, 3)))])\n",
    "                        for j in range(len(images_same_class)-2):\n",
    "                            real_data_train.append(np.array([images_same_class[i], images_same_class[j],1]))\n",
    "                            random_image = np.random.randint(len(images_different_class))\n",
    "                            self.dict_images[images_different_class[random_image]] = np.array([image.img_to_array(image.load_img(\"./dataset/\"+s+\"/\"+images_different_class[random_image], target_size=(100, 200, 3)))])            \n",
    "                            fake_data_train.append(np.array([images_same_class[i], images_different_class[random_image],0]))\n",
    "\n",
    "\n",
    "                    for i in range(len(images_same_class)-2,len(images_same_class)):\n",
    "                        self.dict_images[images_same_class[i]]=np.array([image.img_to_array(image.load_img(\"./dataset/\"+s+\"/\"+images_same_class[i], target_size=(100, 200, 3)))])\n",
    "                        for j in range(len(images_same_class)-2, len(images_same_class)):\n",
    "                            real_data_test.append(np.array([images_same_class[i], images_same_class[j],1]))\n",
    "                            random_image = np.random.randint(len(images_different_class))\n",
    "                            self.dict_images[images_different_class[random_image]] = np.array([image.img_to_array(image.load_img(\"./dataset/\"+s+\"/\"+images_different_class[random_image], target_size=(100, 200, 3)))])            \n",
    "                            fake_data_test.append(np.array([images_same_class[i], images_different_class[random_image],0]))\n",
    "\n",
    "        #Stacking the data\n",
    "        real_data_train = np.vstack(real_data_train)\n",
    "        fake_data_train = np.vstack(fake_data_train)\n",
    "        \n",
    "        real_data_test = np.vstack(real_data_test)\n",
    "        fake_data_test = np.vstack(fake_data_test)\n",
    "        \n",
    "        #Shuffling\n",
    "        train_data_shuffle = np.concatenate([fake_data_train, real_data_train])\n",
    "        np.random.shuffle(train_data_shuffle)\n",
    "        test_data_shuffle = np.concatenate([fake_data_test, real_data_test])\n",
    "        np.random.shuffle(test_data_shuffle)\n",
    "        \n",
    "        print(\"Fake and Real data generated for siamese training.\")\n",
    "        return (real_data_train, fake_data_train), (real_data_test,fake_data_test), train_data_shuffle, test_data_shuffle\n",
    "\n",
    "    def prepare_labels(self, y):\n",
    "        values = np.array(y)\n",
    "        label_encoder = LabelEncoder()\n",
    "        integer_encoded = label_encoder.fit_transform(values)\n",
    "        # print(integer_encoded)\n",
    "\n",
    "        onehot_encoder = OneHotEncoder(sparse=False)\n",
    "        integer_encoded = integer_encoded.reshape(len(integer_encoded), 1)\n",
    "        onehot_encoded = onehot_encoder.fit_transform(integer_encoded)\n",
    "        # print(onehot_encoded)\n",
    "\n",
    "        y = onehot_encoded\n",
    "        # print(y.shape)\n",
    "        return y, label_encoder\n",
    "    def load_images_batch(self,batch_size, s='train'):\n",
    "        \"\"\"A ne pas runner ! Trop gourmand\"\"\"\n",
    "        self.number_iteration[s] = len(self.data[s])/batch_size\n",
    "        \n",
    "        \n",
    "        for i in range(int(self.number_iteration[s])):\n",
    "            print(i)\n",
    "            batch_data=self.data[s][i*batch_size:(i+1)*(batch_size)]\n",
    "            image_left, image_right, targets = [],[],[]\n",
    "            for fig in batch_data:\n",
    "                image_left.append(self.dict_images[fig[0]])\n",
    "                image_right.append(self.dict_images[fig[1]])\n",
    "                targets.append(np.array([int(fig[2])]))\n",
    "            image_left = np.vstack(image_left)\n",
    "            image_right = np.vstack(image_right)\n",
    "\n",
    "            #Finally we get the elements of the batch\n",
    "            self.dict_targets[i] = np.vstack(targets)\n",
    "            self.dict_pairs[i] = [image_left,image_right]\n",
    "\n",
    "        \n",
    "\n",
    "    def get_batch(self,batch_size,s=\"train\"):\n",
    "        \"\"\"Create batch of n pairs, 1/3 same class, 2/3 different class\"\"\"\n",
    "        \n",
    "        \n",
    "        \n",
    "        \n",
    "        #Condition to reset the loop of iteration\n",
    "        if self.iterator_batch>=(len(self.data[s])/batch_size):\n",
    "            self.iterator_batch = 0\n",
    "            \n",
    "        #For more readability\n",
    "   \n",
    "        i =self.iterator_batch\n",
    "        #Let's load the batch\n",
    "        batch_data=self.data[s][i*batch_size:(i+1)*(batch_size)]\n",
    "        \n",
    "        image_left, image_right, targets = [],[],[]\n",
    "        for fig in batch_data:\n",
    "            image_left.append(self.dict_images[fig[0]])\n",
    "            image_right.append(self.dict_images[fig[1]])\n",
    "            targets.append(np.array([int(fig[2])]))\n",
    "        image_left = np.vstack(image_left)\n",
    "        image_right = np.vstack(image_right)\n",
    "        \n",
    "        #Finally we get the elements of the batch\n",
    "        targets = np.vstack(targets)\n",
    "        pairs = [image_left,image_right]\n",
    "        targets = self.dict_targets[iterator_batch] \n",
    "        pairs = self.dict_pairs[iterator_batch]\n",
    "        \n",
    "        #iteration step\n",
    "        self.iterator_batch +=1\n",
    "        \n",
    "        return pairs, targets\n",
    "\n",
    "    \n",
    "    def generate(self, batch_size, s=\"train\"):\n",
    "        \"\"\"a generator for batches, so model.fit_generator can be used. \"\"\"\n",
    "        while True:\n",
    "            pairs, targets = self.get_batch(batch_size,s)\n",
    "            yield (pairs, targets)    \n",
    "            \n",
    "            \n",
    "    def evaluate(self,model, batch_size) :\n",
    "        \n",
    "        s = \"train\"\n",
    "        #Let's load the random batch\n",
    "        list_indices = [np.random.randint(0,self.data['dev'].shape[0]) for i in range(batch_size)]\n",
    "        batch_data=self.data['dev'][list_indices]\n",
    "        \n",
    "        image_left, image_right, targets = [],[],[]\n",
    "        for fig in batch_data:\n",
    "            image_left.append(self.dict_images[fig[0]])\n",
    "            image_right.append(self.dict_images[fig[1]])\n",
    "            targets.append(np.array([int(fig[2])]))\n",
    "        image_left = np.vstack(image_left)\n",
    "        image_right = np.vstack(image_right)\n",
    "        \n",
    "        #Finally we get the elements of the batch\n",
    "        targets = np.vstack(targets)\n",
    "        pairs = [image_left,image_right]\n",
    "        \n",
    "#         real_positive = np.argwhere(targets==[1])\n",
    "#         print(\"Real_positive : {}\".format(len(real_positive)))\n",
    "#         self.targets = targets\n",
    "#         self.model = model\n",
    "#         #self.real_positive = real_positive\n",
    "        \n",
    "        \n",
    "        y_predict = model.predict(pairs)\n",
    "        \n",
    "#         self.y_predict=y_predict\n",
    "        my_recall = recall_score(targets,  np.where(y_predict>=0.5,1,0))#(targets[real_positive[:,0]], np.where(y_predict[real_positive[:,0]]>=0.5,1,0))\n",
    "        my_accuracy = accuracy_score(targets,  np.where(y_predict>=0.5,1,0))\n",
    "        \n",
    "        # Saving train logs\n",
    "        self.les_accuracy.append(my_accuracy)\n",
    "        self.les_recall.append(my_recall)\n",
    "        \n",
    "        return my_recall, my_accuracy\n",
    "        \n",
    "    \n",
    "\n",
    "    def make_oneshot_task(self,N,s=\"val\",language=None):\n",
    "        \"\"\"Create pairs of test image, support set for testing N way one-shot learning. \"\"\"\n",
    "        X=self.data[s]\n",
    "        n_classes, n_examples, w, h = X.shape\n",
    "        indices = rng.randint(0,n_examples,size=(N,))\n",
    "        if language is not None:\n",
    "            low, high = self.categories[s][language]\n",
    "            if N > high - low:\n",
    "                raise ValueError(\"This language ({}) has less than {} letters\".format(language, N))\n",
    "            categories = rng.choice(range(low,high),size=(N,),replace=False)\n",
    "            \n",
    "        else:#if no language specified just pick a bunch of random letters\n",
    "            categories = rng.choice(range(n_classes),size=(N,),replace=False)            \n",
    "        true_category = categories[0]\n",
    "        ex1, ex2 = rng.choice(n_examples,replace=False,size=(2,))\n",
    "        test_image = np.asarray([X[true_category,ex1,:,:]]*N).reshape(N, w, h,1)\n",
    "        support_set = X[categories,indices,:,:]\n",
    "        support_set[0,:,:] = X[true_category,ex2]\n",
    "        support_set = support_set.reshape(N, w, h,1)\n",
    "        targets = np.zeros((N,))\n",
    "        targets[0] = 1\n",
    "        targets, test_image, support_set = shuffle(targets, test_image, support_set)\n",
    "        pairs = [test_image,support_set]\n",
    "\n",
    "        return pairs, targets\n",
    "    \n",
    "    def test_oneshot(self,model,N,k,s=\"val\",verbose=0):\n",
    "        \"\"\"Test average N way oneshot learning accuracy of a siamese neural net over k one-shot tasks\"\"\"\n",
    "        n_correct = 0\n",
    "        if verbose:\n",
    "            print(\"Evaluating model on {} random {} way one-shot learning tasks ...\".format(k,N))\n",
    "        for i in range(k):\n",
    "            inputs, targets = self.make_oneshot_task(N,s)\n",
    "            probs = model.predict(inputs)\n",
    "            if np.argmax(probs) == np.argmax(targets):\n",
    "                n_correct+=1\n",
    "        percent_correct = (100.0*n_correct / k)\n",
    "        if verbose:\n",
    "            print(\"Got an average of {}% {} way one-shot learning accuracy\".format(percent_correct,N))\n",
    "        return percent_correct\n",
    "    \n",
    "    def train(self, model, epochs, verbosity):\n",
    "        model.fit_generator(self.generate(batch_size),use_multiprocessing=True\n",
    "                            \n",
    "                             )\n",
    "    \n",
    "    \n",
    "#Instantiate the class\n",
    "time1 = time.time()\n",
    "loader = Siamese_Loader()\n",
    "print((time.time()-time1)/60)"
   ]
  },
  {
   "cell_type": "markdown",
   "metadata": {},
   "source": [
    "# Training loop"
   ]
  },
  {
   "cell_type": "code",
   "execution_count": 12,
   "metadata": {},
   "outputs": [
    {
     "data": {
      "text/plain": [
       "(232272, 3)"
      ]
     },
     "execution_count": 12,
     "metadata": {},
     "output_type": "execute_result"
    }
   ],
   "source": [
    "loader.data['train'].shape"
   ]
  },
  {
   "cell_type": "code",
   "execution_count": 8,
   "metadata": {},
   "outputs": [
    {
     "data": {
      "text/plain": [
       "False"
      ]
     },
     "execution_count": 8,
     "metadata": {},
     "output_type": "execute_result"
    }
   ],
   "source": []
  },
  {
   "cell_type": "code",
   "execution_count": 14,
   "metadata": {},
   "outputs": [
    {
     "data": {
      "text/plain": [
       "937"
      ]
     },
     "execution_count": 14,
     "metadata": {},
     "output_type": "execute_result"
    }
   ],
   "source": [
    "len(loader.dict_pairs)"
   ]
  },
  {
   "cell_type": "code",
   "execution_count": 9,
   "metadata": {},
   "outputs": [
    {
     "name": "stdout",
     "output_type": "stream",
     "text": [
      "Starting the training loop...\n",
      "Training...\n"
     ]
    },
    {
     "ename": "KeyError",
     "evalue": "'8bcabf05a.jpg'",
     "output_type": "error",
     "traceback": [
      "\u001b[1;31m---------------------------------------------------------------------------\u001b[0m",
      "\u001b[1;31mKeyError\u001b[0m                                  Traceback (most recent call last)",
      "\u001b[1;32m<ipython-input-9-6ba9e780112c>\u001b[0m in \u001b[0;36m<module>\u001b[1;34m()\u001b[0m\n\u001b[0;32m     11\u001b[0m \u001b[0mprint\u001b[0m\u001b[1;33m(\u001b[0m\u001b[1;34m\"Training...\"\u001b[0m\u001b[1;33m)\u001b[0m\u001b[1;33m\u001b[0m\u001b[1;33m\u001b[0m\u001b[0m\n\u001b[0;32m     12\u001b[0m \u001b[1;32mfor\u001b[0m \u001b[0mi\u001b[0m \u001b[1;32min\u001b[0m \u001b[0mrange\u001b[0m\u001b[1;33m(\u001b[0m\u001b[1;36m1\u001b[0m\u001b[1;33m,\u001b[0m \u001b[0mn_iter\u001b[0m\u001b[1;33m)\u001b[0m\u001b[1;33m:\u001b[0m\u001b[1;33m\u001b[0m\u001b[1;33m\u001b[0m\u001b[0m\n\u001b[1;32m---> 13\u001b[1;33m     \u001b[1;33m(\u001b[0m\u001b[0minputs\u001b[0m\u001b[1;33m,\u001b[0m\u001b[0mtargets\u001b[0m\u001b[1;33m)\u001b[0m\u001b[1;33m=\u001b[0m\u001b[0mloader\u001b[0m\u001b[1;33m.\u001b[0m\u001b[0mget_batch\u001b[0m\u001b[1;33m(\u001b[0m\u001b[0mbatch_size\u001b[0m\u001b[1;33m)\u001b[0m\u001b[1;33m\u001b[0m\u001b[1;33m\u001b[0m\u001b[0m\n\u001b[0m\u001b[0;32m     14\u001b[0m     \u001b[0mloss\u001b[0m\u001b[1;33m=\u001b[0m\u001b[0msiamese_net\u001b[0m\u001b[1;33m.\u001b[0m\u001b[0mtrain_on_batch\u001b[0m\u001b[1;33m(\u001b[0m\u001b[0minputs\u001b[0m\u001b[1;33m,\u001b[0m\u001b[0mtargets\u001b[0m\u001b[1;33m)\u001b[0m\u001b[1;33m\u001b[0m\u001b[1;33m\u001b[0m\u001b[0m\n\u001b[0;32m     15\u001b[0m     \u001b[1;31m# Save loss\u001b[0m\u001b[1;33m\u001b[0m\u001b[1;33m\u001b[0m\u001b[1;33m\u001b[0m\u001b[0m\n",
      "\u001b[1;32m<ipython-input-3-dac6425f8211>\u001b[0m in \u001b[0;36mget_batch\u001b[1;34m(self, batch_size, s)\u001b[0m\n\u001b[0;32m    141\u001b[0m         \u001b[1;32mfor\u001b[0m \u001b[0mfig\u001b[0m \u001b[1;32min\u001b[0m \u001b[0mbatch_data\u001b[0m\u001b[1;33m:\u001b[0m\u001b[1;33m\u001b[0m\u001b[1;33m\u001b[0m\u001b[0m\n\u001b[0;32m    142\u001b[0m             \u001b[0mimage_left\u001b[0m\u001b[1;33m.\u001b[0m\u001b[0mappend\u001b[0m\u001b[1;33m(\u001b[0m\u001b[0mself\u001b[0m\u001b[1;33m.\u001b[0m\u001b[0mdict_images\u001b[0m\u001b[1;33m[\u001b[0m\u001b[0mfig\u001b[0m\u001b[1;33m[\u001b[0m\u001b[1;36m0\u001b[0m\u001b[1;33m]\u001b[0m\u001b[1;33m]\u001b[0m\u001b[1;33m)\u001b[0m\u001b[1;33m\u001b[0m\u001b[1;33m\u001b[0m\u001b[0m\n\u001b[1;32m--> 143\u001b[1;33m             \u001b[0mimage_right\u001b[0m\u001b[1;33m.\u001b[0m\u001b[0mappend\u001b[0m\u001b[1;33m(\u001b[0m\u001b[0mself\u001b[0m\u001b[1;33m.\u001b[0m\u001b[0mdict_images\u001b[0m\u001b[1;33m[\u001b[0m\u001b[0mfig\u001b[0m\u001b[1;33m[\u001b[0m\u001b[1;36m1\u001b[0m\u001b[1;33m]\u001b[0m\u001b[1;33m]\u001b[0m\u001b[1;33m)\u001b[0m\u001b[1;33m\u001b[0m\u001b[1;33m\u001b[0m\u001b[0m\n\u001b[0m\u001b[0;32m    144\u001b[0m             \u001b[0mtargets\u001b[0m\u001b[1;33m.\u001b[0m\u001b[0mappend\u001b[0m\u001b[1;33m(\u001b[0m\u001b[0mnp\u001b[0m\u001b[1;33m.\u001b[0m\u001b[0marray\u001b[0m\u001b[1;33m(\u001b[0m\u001b[1;33m[\u001b[0m\u001b[0mint\u001b[0m\u001b[1;33m(\u001b[0m\u001b[0mfig\u001b[0m\u001b[1;33m[\u001b[0m\u001b[1;36m2\u001b[0m\u001b[1;33m]\u001b[0m\u001b[1;33m)\u001b[0m\u001b[1;33m]\u001b[0m\u001b[1;33m)\u001b[0m\u001b[1;33m)\u001b[0m\u001b[1;33m\u001b[0m\u001b[1;33m\u001b[0m\u001b[0m\n\u001b[0;32m    145\u001b[0m         \u001b[0mimage_left\u001b[0m \u001b[1;33m=\u001b[0m \u001b[0mnp\u001b[0m\u001b[1;33m.\u001b[0m\u001b[0mvstack\u001b[0m\u001b[1;33m(\u001b[0m\u001b[0mimage_left\u001b[0m\u001b[1;33m)\u001b[0m\u001b[1;33m\u001b[0m\u001b[1;33m\u001b[0m\u001b[0m\n",
      "\u001b[1;31mKeyError\u001b[0m: '8bcabf05a.jpg'"
     ]
    }
   ],
   "source": [
    "#Training loop\n",
    "print(\"Starting the training loop...\")\n",
    "evaluate_every = 10 # interval for evaluating on one-shot tasks\n",
    "loss_every=5 # interval for printing loss (iterations)\n",
    "batch_size = 64\n",
    "n_iter = 1000\n",
    "N_way = 20 # how many classes for testing one-shot tasks>\n",
    "n_val = 250 #how mahy one-shot tasks to validate on?\n",
    "best = -1\n",
    "weights_path = os.path.join(\"weights\", \"weights\")\n",
    "print(\"Training...\")\n",
    "for i in range(1, n_iter):\n",
    "    (inputs,targets)=loader.get_batch(batch_size)\n",
    "    loss=siamese_net.train_on_batch(inputs,targets)\n",
    "    # Save loss\n",
    "    loader.les_loss.append(loss)\n",
    "    \n",
    "    #print(loss)\n",
    "    if i % evaluate_every == 0:\n",
    "        print(\"Evaluating...\")\n",
    "        val_recall, val_accuracy = loader.evaluate(siamese_net,200)\n",
    "        print(\"Recall : {}, Accuracy : {}\".format(val_recall,val_accuracy))\n",
    "        \n",
    "        if val_accuracy >= best:\n",
    "            print(\"Saving weights...\")\n",
    "            siamese_net.save(weights_path)\n",
    "            best=val_accuracy\n",
    "        \n",
    "    if len(loader.les_accuracy) > 15 and loader.les_accuracy[-1] <= min(loader.les_accuracy[-10:]):\n",
    "        print(\"Appears to have stop learning. Early stopping\")\n",
    "        break\n",
    "\n",
    "    if i % loss_every == 0:\n",
    "        print(\"iteration {}, training loss: {:.2f},\".format(i,loss))"
   ]
  },
  {
   "cell_type": "code",
   "execution_count": 6,
   "metadata": {},
   "outputs": [
    {
     "data": {
      "image/png": "[encoded data removed]",
      "text/plain": [
       "<Figure size 432x288 with 1 Axes>"
      ]
     },
     "metadata": {},
     "output_type": "display_data"
    },
    {
     "data": {
      "image/png": "[encoded data removed]",
      "text/plain": [
       "<Figure size 432x288 with 1 Axes>"
      ]
     },
     "metadata": {},
     "output_type": "display_data"
    },
    {
     "data": {
      "image/png": "[encoded data removed]",
      "text/plain": [
       "<Figure size 432x288 with 1 Axes>"
      ]
     },
     "metadata": {},
     "output_type": "display_data"
    }
   ],
   "source": [
    "def disp_train():\n",
    "    \n",
    "    plt.plot(loader.les_accuracy)\n",
    "    plt.ylabel(\"Accuracy\")\n",
    "    plt.savefig(\"figure/accuracy.png\", dpi = 1200)\n",
    "    plt.show()\n",
    "    \n",
    "    plt.plot(loader.les_recall)\n",
    "    plt.ylabel(\"Recall\")\n",
    "    plt.savefig(\"figure/recall.png\", dpi = 1200)\n",
    "    plt.show()\n",
    "    \n",
    "    plt.plot(loader.les_loss)\n",
    "    plt.ylabel(\"Loss\")\n",
    "    plt.savefig(\"figure/loss.png\", dpi = 1200)\n",
    "    plt.show()\n",
    "    \n",
    "disp_train()"
   ]
  },
  {
   "cell_type": "code",
   "execution_count": 18,
   "metadata": {},
   "outputs": [
    {
     "data": {
      "text/plain": [
       "array([[1],\n",
       "       [1],\n",
       "       [0],\n",
       "       [1],\n",
       "       [0],\n",
       "       [0],\n",
       "       [0],\n",
       "       [0],\n",
       "       [1],\n",
       "       [0],\n",
       "       [0],\n",
       "       [1],\n",
       "       [0],\n",
       "       [0],\n",
       "       [1],\n",
       "       [1],\n",
       "       [1],\n",
       "       [0],\n",
       "       [0],\n",
       "       [0],\n",
       "       [1],\n",
       "       [0],\n",
       "       [1],\n",
       "       [1],\n",
       "       [1],\n",
       "       [0],\n",
       "       [0],\n",
       "       [0],\n",
       "       [1],\n",
       "       [1],\n",
       "       [1],\n",
       "       [1],\n",
       "       [1],\n",
       "       [1],\n",
       "       [1],\n",
       "       [0],\n",
       "       [0],\n",
       "       [1],\n",
       "       [1],\n",
       "       [0],\n",
       "       [1],\n",
       "       [1],\n",
       "       [0],\n",
       "       [1],\n",
       "       [0],\n",
       "       [0],\n",
       "       [0],\n",
       "       [0],\n",
       "       [1],\n",
       "       [0],\n",
       "       [1],\n",
       "       [0],\n",
       "       [1],\n",
       "       [1],\n",
       "       [1],\n",
       "       [0],\n",
       "       [1],\n",
       "       [1],\n",
       "       [0],\n",
       "       [0],\n",
       "       [1],\n",
       "       [0],\n",
       "       [1],\n",
       "       [1],\n",
       "       [0],\n",
       "       [0],\n",
       "       [0],\n",
       "       [1],\n",
       "       [0],\n",
       "       [0],\n",
       "       [0],\n",
       "       [0],\n",
       "       [0],\n",
       "       [1],\n",
       "       [0],\n",
       "       [1],\n",
       "       [0],\n",
       "       [1],\n",
       "       [1],\n",
       "       [0],\n",
       "       [1],\n",
       "       [1],\n",
       "       [0],\n",
       "       [1],\n",
       "       [1],\n",
       "       [0],\n",
       "       [0],\n",
       "       [0],\n",
       "       [0],\n",
       "       [1],\n",
       "       [0],\n",
       "       [1],\n",
       "       [1],\n",
       "       [1],\n",
       "       [1],\n",
       "       [0],\n",
       "       [1],\n",
       "       [0],\n",
       "       [1],\n",
       "       [1],\n",
       "       [0],\n",
       "       [0],\n",
       "       [0],\n",
       "       [1],\n",
       "       [1],\n",
       "       [1],\n",
       "       [0],\n",
       "       [1],\n",
       "       [0],\n",
       "       [1],\n",
       "       [0],\n",
       "       [1],\n",
       "       [1],\n",
       "       [1],\n",
       "       [1],\n",
       "       [0],\n",
       "       [1],\n",
       "       [1],\n",
       "       [1],\n",
       "       [0],\n",
       "       [0],\n",
       "       [1],\n",
       "       [1],\n",
       "       [1],\n",
       "       [1],\n",
       "       [1],\n",
       "       [0],\n",
       "       [0],\n",
       "       [0],\n",
       "       [1],\n",
       "       [1],\n",
       "       [1],\n",
       "       [0],\n",
       "       [1],\n",
       "       [0],\n",
       "       [1],\n",
       "       [0],\n",
       "       [0],\n",
       "       [0],\n",
       "       [0],\n",
       "       [1],\n",
       "       [0],\n",
       "       [1],\n",
       "       [1],\n",
       "       [1],\n",
       "       [1],\n",
       "       [1],\n",
       "       [0],\n",
       "       [1],\n",
       "       [1],\n",
       "       [1],\n",
       "       [0],\n",
       "       [1],\n",
       "       [0],\n",
       "       [1],\n",
       "       [1],\n",
       "       [0],\n",
       "       [1],\n",
       "       [0],\n",
       "       [1],\n",
       "       [1],\n",
       "       [1],\n",
       "       [1],\n",
       "       [0],\n",
       "       [0],\n",
       "       [0],\n",
       "       [1],\n",
       "       [0],\n",
       "       [1],\n",
       "       [0],\n",
       "       [0],\n",
       "       [0],\n",
       "       [1],\n",
       "       [0],\n",
       "       [0],\n",
       "       [0],\n",
       "       [1],\n",
       "       [0],\n",
       "       [0],\n",
       "       [0],\n",
       "       [1],\n",
       "       [0],\n",
       "       [1],\n",
       "       [0],\n",
       "       [1],\n",
       "       [0],\n",
       "       [1],\n",
       "       [0],\n",
       "       [0],\n",
       "       [0],\n",
       "       [0],\n",
       "       [1],\n",
       "       [0],\n",
       "       [0],\n",
       "       [0],\n",
       "       [0],\n",
       "       [1],\n",
       "       [0],\n",
       "       [1],\n",
       "       [0]])"
      ]
     },
     "execution_count": 18,
     "metadata": {},
     "output_type": "execute_result"
    }
   ],
   "source": [
    "loader.targets"
   ]
  },
  {
   "cell_type": "code",
   "execution_count": 19,
   "metadata": {},
   "outputs": [
    {
     "data": {
      "text/plain": [
       "array([  0,   1,   3,   8,  11,  14,  15,  16,  20,  22,  23,  24,  28,\n",
       "        29,  30,  31,  32,  33,  34,  37,  38,  40,  41,  43,  48,  50,\n",
       "        52,  53,  54,  56,  57,  60,  62,  63,  67,  73,  75,  77,  78,\n",
       "        80,  81,  83,  84,  89,  91,  92,  93,  94,  96,  98,  99, 103,\n",
       "       104, 105, 107, 109, 111, 112, 113, 114, 116, 117, 118, 121, 122,\n",
       "       123, 124, 125, 129, 130, 131, 133, 135, 140, 142, 143, 144, 145,\n",
       "       146, 148, 149, 150, 152, 154, 155, 157, 159, 160, 161, 162, 166,\n",
       "       168, 172, 176, 180, 182, 184, 186, 191, 196, 198], dtype=int64)"
      ]
     },
     "execution_count": 19,
     "metadata": {},
     "output_type": "execute_result"
    }
   ],
   "source": [
    "loader.real_positive[:,0]"
   ]
  },
  {
   "cell_type": "code",
   "execution_count": 40,
   "metadata": {},
   "outputs": [
    {
     "data": {
      "text/plain": [
       "numpy.int32"
      ]
     },
     "execution_count": 40,
     "metadata": {},
     "output_type": "execute_result"
    }
   ],
   "source": [
    "type(np.where(loader.y_predict[loader.real_positive[:,0]]>=0.5,1,0)[0,0])"
   ]
  },
  {
   "cell_type": "code",
   "execution_count": 51,
   "metadata": {},
   "outputs": [
    {
     "data": {
      "text/plain": [
       "0.4444444444444444"
      ]
     },
     "execution_count": 51,
     "metadata": {},
     "output_type": "execute_result"
    }
   ],
   "source": [
    "from sklearn.metrics import accuracy_score\n",
    "y= np.array([1,0,1,0,1,0,1,0,1])\n",
    "y_pred = np.array([0,0,0,0,0,0,0,0,0])\n",
    "accuracy_score(y, y_pred)"
   ]
  },
  {
   "cell_type": "code",
   "execution_count": 48,
   "metadata": {},
   "outputs": [
    {
     "ename": "TypeError",
     "evalue": "Only integers, slices (`:`), ellipsis (`...`), tf.newaxis (`None`) and scalar tf.int32/tf.int64 tensors are valid indices, got 'Mean_4:0'",
     "output_type": "error",
     "traceback": [
      "\u001b[1;31m---------------------------------------------------------------------------\u001b[0m",
      "\u001b[1;31mTypeError\u001b[0m                                 Traceback (most recent call last)",
      "\u001b[1;32m<ipython-input-48-33f7579b50d4>\u001b[0m in \u001b[0;36m<module>\u001b[1;34m()\u001b[0m\n\u001b[1;32m----> 1\u001b[1;33m \u001b[0mmetrics\u001b[0m\u001b[1;33m.\u001b[0m\u001b[0mbinary_accuracy\u001b[0m\u001b[1;33m(\u001b[0m\u001b[0mloader\u001b[0m\u001b[1;33m.\u001b[0m\u001b[0mtargets\u001b[0m\u001b[1;33m,\u001b[0m\u001b[0mnp\u001b[0m\u001b[1;33m.\u001b[0m\u001b[0mwhere\u001b[0m\u001b[1;33m(\u001b[0m\u001b[0mloader\u001b[0m\u001b[1;33m.\u001b[0m\u001b[0my_predict\u001b[0m\u001b[1;33m>=\u001b[0m\u001b[1;36m0.5\u001b[0m\u001b[1;33m,\u001b[0m\u001b[1;36m1\u001b[0m\u001b[1;33m,\u001b[0m\u001b[1;36m0\u001b[0m\u001b[1;33m)\u001b[0m\u001b[1;33m)\u001b[0m\u001b[1;33m[\u001b[0m\u001b[1;34m\"Mean_4:0\"\u001b[0m\u001b[1;33m]\u001b[0m\u001b[1;33m\u001b[0m\u001b[1;33m\u001b[0m\u001b[0m\n\u001b[0m",
      "\u001b[1;32mC:\\Anaconda3\\lib\\site-packages\\tensorflow\\python\\ops\\array_ops.py\u001b[0m in \u001b[0;36m_slice_helper\u001b[1;34m(tensor, slice_spec, var)\u001b[0m\n\u001b[0;32m    616\u001b[0m       \u001b[0mnew_axis_mask\u001b[0m \u001b[1;33m|=\u001b[0m \u001b[1;33m(\u001b[0m\u001b[1;36m1\u001b[0m \u001b[1;33m<<\u001b[0m \u001b[0mindex\u001b[0m\u001b[1;33m)\u001b[0m\u001b[1;33m\u001b[0m\u001b[1;33m\u001b[0m\u001b[0m\n\u001b[0;32m    617\u001b[0m     \u001b[1;32melse\u001b[0m\u001b[1;33m:\u001b[0m\u001b[1;33m\u001b[0m\u001b[1;33m\u001b[0m\u001b[0m\n\u001b[1;32m--> 618\u001b[1;33m       \u001b[0m_check_index\u001b[0m\u001b[1;33m(\u001b[0m\u001b[0ms\u001b[0m\u001b[1;33m)\u001b[0m\u001b[1;33m\u001b[0m\u001b[1;33m\u001b[0m\u001b[0m\n\u001b[0m\u001b[0;32m    619\u001b[0m       \u001b[0mbegin\u001b[0m\u001b[1;33m.\u001b[0m\u001b[0mappend\u001b[0m\u001b[1;33m(\u001b[0m\u001b[0ms\u001b[0m\u001b[1;33m)\u001b[0m\u001b[1;33m\u001b[0m\u001b[1;33m\u001b[0m\u001b[0m\n\u001b[0;32m    620\u001b[0m       \u001b[0mend\u001b[0m\u001b[1;33m.\u001b[0m\u001b[0mappend\u001b[0m\u001b[1;33m(\u001b[0m\u001b[0ms\u001b[0m \u001b[1;33m+\u001b[0m \u001b[1;36m1\u001b[0m\u001b[1;33m)\u001b[0m\u001b[1;33m\u001b[0m\u001b[1;33m\u001b[0m\u001b[0m\n",
      "\u001b[1;32mC:\\Anaconda3\\lib\\site-packages\\tensorflow\\python\\ops\\array_ops.py\u001b[0m in \u001b[0;36m_check_index\u001b[1;34m(idx)\u001b[0m\n\u001b[0;32m    514\u001b[0m     \u001b[1;31m# TODO(slebedev): IndexError seems more appropriate here, but it\u001b[0m\u001b[1;33m\u001b[0m\u001b[1;33m\u001b[0m\u001b[1;33m\u001b[0m\u001b[0m\n\u001b[0;32m    515\u001b[0m     \u001b[1;31m# will break `_slice_helper` contract.\u001b[0m\u001b[1;33m\u001b[0m\u001b[1;33m\u001b[0m\u001b[1;33m\u001b[0m\u001b[0m\n\u001b[1;32m--> 516\u001b[1;33m     \u001b[1;32mraise\u001b[0m \u001b[0mTypeError\u001b[0m\u001b[1;33m(\u001b[0m\u001b[0m_SLICE_TYPE_ERROR\u001b[0m \u001b[1;33m+\u001b[0m \u001b[1;34m\", got {!r}\"\u001b[0m\u001b[1;33m.\u001b[0m\u001b[0mformat\u001b[0m\u001b[1;33m(\u001b[0m\u001b[0midx\u001b[0m\u001b[1;33m)\u001b[0m\u001b[1;33m)\u001b[0m\u001b[1;33m\u001b[0m\u001b[1;33m\u001b[0m\u001b[0m\n\u001b[0m\u001b[0;32m    517\u001b[0m \u001b[1;33m\u001b[0m\u001b[0m\n\u001b[0;32m    518\u001b[0m \u001b[1;33m\u001b[0m\u001b[0m\n",
      "\u001b[1;31mTypeError\u001b[0m: Only integers, slices (`:`), ellipsis (`...`), tf.newaxis (`None`) and scalar tf.int32/tf.int64 tensors are valid indices, got 'Mean_4:0'"
     ]
    }
   ],
   "source": [
    "metrics.binary_accuracy(loader.targets,np.where(loader.y_predict>=0.5,1,0))."
   ]
  },
  {
   "cell_type": "code",
   "execution_count": null,
   "metadata": {
    "collapsed": true
   },
   "outputs": [],
   "source": [
    "#Training loop\n",
    "print(\"!\")\n",
    "evaluate_every = 1 # interval for evaluating on one-shot tasks\n",
    "loss_every=50 # interval for printing loss (iterations)\n",
    "batch_size = 32\n",
    "n_iter = 90000\n",
    "N_way = 20 # how many classes for testing one-shot tasks>\n",
    "n_val = 250 #how mahy one-shot tasks to validate on?\n",
    "best = -1\n",
    "weights_path = os.path.join(PATH, \"weights\")\n",
    "print(\"training\")\n",
    "for i in range(1, n_iter):\n",
    "    (inputs,targets)=loader.get_batch(batch_size)\n",
    "    loss=siamese_net.train_on_batch(inputs,targets)\n",
    "    print(loss)\n",
    "    if i % evaluate_every == 0:\n",
    "        print(\"evaluating\")\n",
    "        #val_acc = loader.test_oneshot(siamese_net,N_way,n_val,verbose=True)\n",
    "        if val_acc >= best:\n",
    "            print(\"saving\")\n",
    "            siamese_net.save(weights_path)\n",
    "            best=val_acc\n",
    "\n",
    "    if i % loss_every == 0:\n",
    "        print(\"iteration {}, training loss: {:.2f},\".format(i,loss))"
   ]
  }
 ],
 "metadata": {
  "kernelspec": {
   "display_name": "Python 3",
   "language": "python",
   "name": "python3"
  },
  "language_info": {
   "codemirror_mode": {
    "name": "ipython",
    "version": 3
   },
   "file_extension": ".py",
   "mimetype": "text/x-python",
   "name": "python",
   "nbconvert_exporter": "python",
   "pygments_lexer": "ipython3",
   "version": "3.6.8"
  }
 },
 "nbformat": 4,
 "nbformat_minor": 2
}
